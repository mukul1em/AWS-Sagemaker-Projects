{
 "cells": [
  {
   "cell_type": "markdown",
   "id": "d836b1a4",
   "metadata": {},
   "source": [
    "## Steps\n",
    "<li>importing libraries\n",
    "\n",
    "<li>creating S3 bucket \n",
    "<li> Mapping train and test data in S3"
   ]
  },
  {
   "cell_type": "code",
   "execution_count": 38,
   "id": "7af0b1de",
   "metadata": {},
   "outputs": [],
   "source": [
    "import sagemaker\n",
    "import boto3\n",
    "from sklearn.model_selection import train_test_split\n",
    "from sagemaker.amazon.amazon_estimator import get_image_uri\n",
    "from sagemaker.session import s3_input, Session\n",
    "import numpy as np"
   ]
  },
  {
   "cell_type": "code",
   "execution_count": 14,
   "id": "0a68af0f",
   "metadata": {},
   "outputs": [
    {
     "name": "stdout",
     "output_type": "stream",
     "text": [
      "us-west-2\n"
     ]
    }
   ],
   "source": [
    "bucket_name = 'mukulproject'\n",
    "my_region = boto3.session.Session().region_name\n",
    "print(my_region)"
   ]
  },
  {
   "cell_type": "markdown",
   "id": "eb19f464",
   "metadata": {},
   "source": [
    "# creating s3 bucket"
   ]
  },
  {
   "cell_type": "code",
   "execution_count": 15,
   "id": "f1d85c2c",
   "metadata": {},
   "outputs": [
    {
     "name": "stdout",
     "output_type": "stream",
     "text": [
      "S3 bucket created successfully\n"
     ]
    }
   ],
   "source": [
    "#creating s3 bucket using code but also can be created manually in AWS console\n",
    "s3 = boto3.resource('s3')\n",
    "try:\n",
    "    if my_region == 'us-west-2':\n",
    "        s3.create_bucket(Bucket=bucket_name,CreateBucketConfiguration={'LocationConstraint': 'us-west-2'})\n",
    "    print(\"S3 bucket created successfully\")\n",
    "except Exception as e:\n",
    "    print(\"S3 error: \", e )\n",
    "    \n"
   ]
  },
  {
   "cell_type": "code",
   "execution_count": 16,
   "id": "03f0ba24",
   "metadata": {},
   "outputs": [
    {
     "data": {
      "text/plain": [
       "'s3://mukulproject/xgboost-as-a-built-in-algo/output'"
      ]
     },
     "execution_count": 16,
     "metadata": {},
     "output_type": "execute_result"
    }
   ],
   "source": [
    "#set an output path to save the trained model\n",
    "prefix = \"xgboost-as-a-built-in-algo\" #using xgboost builtin  algorithm\n",
    "output_path = 's3://{}/{}/output'.format(bucket_name,prefix)\n",
    "output_path"
   ]
  },
  {
   "cell_type": "markdown",
   "id": "2dc9777f",
   "metadata": {},
   "source": [
    "# Downloading the data and storing in S3"
   ]
  },
  {
   "cell_type": "code",
   "execution_count": 17,
   "id": "2472c7c0",
   "metadata": {},
   "outputs": [
    {
     "name": "stdout",
     "output_type": "stream",
     "text": [
      "Success: downloaded bank_clean.csv\n",
      "Success: data loaded to dataframe\n"
     ]
    }
   ],
   "source": [
    "import pandas as pd\n",
    "import urllib\n",
    "try:\n",
    "    urllib.request.urlretrieve(\"https://d1.awsstatic.com/tmt/build-train-deploy-machine-learning-model-sagemaker/bank_clean.27f01fbbdf43271788427f3682996ae29ceca05d.csv\",\"bank_clean.csv\")\n",
    "    print(\"Success: downloaded bank_clean.csv\")\n",
    "except Exception as e:\n",
    "    print(\"Data Load error: \", e)\n",
    "\n",
    "try:\n",
    "    model_data = pd.read_csv('./bank_clean.csv',index_col=0)\n",
    "    print(\"Success: data loaded to dataframe\")\n",
    "except Exception as e:\n",
    "    print(\"Data load error: \", e)\n",
    "    "
   ]
  },
  {
   "cell_type": "markdown",
   "id": "5c904fe9",
   "metadata": {},
   "source": [
    "## Train Test split"
   ]
  },
  {
   "cell_type": "code",
   "execution_count": 19,
   "id": "a98b108f",
   "metadata": {},
   "outputs": [
    {
     "data": {
      "text/plain": [
       "((28831, 61), (12357, 61))"
      ]
     },
     "execution_count": 19,
     "metadata": {},
     "output_type": "execute_result"
    }
   ],
   "source": [
    "train_data, test_data = train_test_split(model_data,test_size=0.3)\n",
    "train_data.shape, test_data.shape"
   ]
  },
  {
   "cell_type": "code",
   "execution_count": 25,
   "id": "cd8d453b",
   "metadata": {},
   "outputs": [],
   "source": [
    "#saving train and test data into s3 bucket\n",
    "import os \n",
    "pd.concat([train_data['y_yes'], train_data.drop(['y_no','y_yes'], axis=1)],axis=1).to_csv('train.csv', index=False, header=False)\n",
    "boto3.Session().resource('s3').Bucket(bucket_name).Object(os.path.join(prefix,'train/train.csv')).upload_file('train.csv')\n",
    "#creating input train path\n",
    "s3_input_train = sagemaker.inputs.TrainingInput(s3_data='s3://{}/{}/train'.format(bucket_name, prefix), content_type='csv')"
   ]
  },
  {
   "cell_type": "code",
   "execution_count": 26,
   "id": "6c790ddb",
   "metadata": {},
   "outputs": [],
   "source": [
    "pd.concat([test_data['y_yes'], test_data.drop(['y_no','y_yes'], axis=1)],axis=1).to_csv('test.csv', index=False, header=False)\n",
    "boto3.Session().resource('s3').Bucket(bucket_name).Object(os.path.join(prefix,'test/test.csv')).upload_file('test.csv')\n",
    "#creating input test path\n",
    "s3_input_test = sagemaker.inputs.TrainingInput(s3_data='s3://{}/{}/test'.format(bucket_name, prefix), content_type='csv')"
   ]
  },
  {
   "cell_type": "markdown",
   "id": "21ad6ca8",
   "metadata": {},
   "source": [
    "## Build XGboost Model"
   ]
  },
  {
   "cell_type": "code",
   "execution_count": 27,
   "id": "8f7b5bdf",
   "metadata": {},
   "outputs": [
    {
     "name": "stderr",
     "output_type": "stream",
     "text": [
      "The method get_image_uri has been renamed in sagemaker>=2.\n",
      "See: https://sagemaker.readthedocs.io/en/stable/v2.html for details.\n"
     ]
    }
   ],
   "source": [
    "#automatically looks for the xgboost image uri  and builds a xgboost container\n",
    "#algorithm is an inbuilt algorithm present in amazon sagemaker\n",
    "container = get_image_uri(boto3.Session().region_name, \n",
    "                         'xgboost',\n",
    "                         repo_version='1.0-1')"
   ]
  },
  {
   "cell_type": "code",
   "execution_count": 28,
   "id": "687fb5ca",
   "metadata": {},
   "outputs": [],
   "source": [
    "# initialize hyperparameters\n",
    "hyperparameters = {\n",
    "        \"max_depth\":\"5\",\n",
    "        \"eta\":\"0.2\",\n",
    "        \"gamma\":\"4\",\n",
    "        \"min_child_weight\":\"6\",\n",
    "        \"subsample\":\"0.7\",\n",
    "        \"objective\":\"binary:logistic\",\n",
    "        \"num_round\":50\n",
    "        }"
   ]
  },
  {
   "cell_type": "code",
   "execution_count": 30,
   "id": "03ebd302",
   "metadata": {},
   "outputs": [
    {
     "name": "stderr",
     "output_type": "stream",
     "text": [
      "train_instance_count has been renamed in sagemaker>=2.\n",
      "See: https://sagemaker.readthedocs.io/en/stable/v2.html for details.\n",
      "train_instance_type has been renamed in sagemaker>=2.\n",
      "See: https://sagemaker.readthedocs.io/en/stable/v2.html for details.\n",
      "train_max_run has been renamed in sagemaker>=2.\n",
      "See: https://sagemaker.readthedocs.io/en/stable/v2.html for details.\n",
      "train_use_spot_instances has been renamed in sagemaker>=2.\n",
      "See: https://sagemaker.readthedocs.io/en/stable/v2.html for details.\n",
      "train_max_wait has been renamed in sagemaker>=2.\n",
      "See: https://sagemaker.readthedocs.io/en/stable/v2.html for details.\n",
      "train_volume_size has been renamed in sagemaker>=2.\n",
      "See: https://sagemaker.readthedocs.io/en/stable/v2.html for details.\n"
     ]
    }
   ],
   "source": [
    "# construct a SageMaker estimator that calls the xgboost-container\n",
    "estimator = sagemaker.estimator.Estimator(image_uri=container, \n",
    "                                          hyperparameters=hyperparameters,\n",
    "                                          role=sagemaker.get_execution_role() #IAM role,\n",
    "                                          train_instance_count=1, \n",
    "                                          train_instance_type='ml.m5.2xlarge' #to the training lit bit faster, \n",
    "                                          train_volume_size=5, # 5 GB \n",
    "                                          output_path=output_path,\n",
    "                                          train_use_spot_instances=True,\n",
    "                                          train_max_run=300,\n",
    "                                          train_max_wait=600)"
   ]
  },
  {
   "cell_type": "code",
   "execution_count": 32,
   "id": "c0ecbf40",
   "metadata": {},
   "outputs": [
    {
     "name": "stdout",
     "output_type": "stream",
     "text": [
      "2021-11-29 18:21:25 Starting - Starting the training job...\n",
      "2021-11-29 18:21:48 Starting - Launching requested ML instancesProfilerReport-1638210084: InProgress\n",
      "...\n",
      "2021-11-29 18:22:20 Starting - Insufficient capacity error from EC2 while launching instances, retrying!............\n",
      "2021-11-29 18:24:21 Starting - Preparing the instances for training............\n",
      "2021-11-29 18:26:24 Downloading - Downloading input data...\n",
      "2021-11-29 18:26:56 Training - Training image download completed. Training in progress.\n",
      "2021-11-29 18:26:56 Uploading - Uploading generated training model.\u001b[34mINFO:sagemaker-containers:Imported framework sagemaker_xgboost_container.training\u001b[0m\n",
      "\u001b[34mINFO:sagemaker-containers:Failed to parse hyperparameter objective value binary:logistic to Json.\u001b[0m\n",
      "\u001b[34mReturning the value itself\u001b[0m\n",
      "\u001b[34mINFO:sagemaker-containers:No GPUs detected (normal if no gpus installed)\u001b[0m\n",
      "\u001b[34mINFO:sagemaker_xgboost_container.training:Running XGBoost Sagemaker in algorithm mode\u001b[0m\n",
      "\u001b[34mINFO:root:Determined delimiter of CSV input is ','\u001b[0m\n",
      "\u001b[34mINFO:root:Determined delimiter of CSV input is ','\u001b[0m\n",
      "\u001b[34mINFO:root:Determined delimiter of CSV input is ','\u001b[0m\n",
      "\u001b[34m[18:26:52] 28831x59 matrix with 1701029 entries loaded from /opt/ml/input/data/train?format=csv&label_column=0&delimiter=,\u001b[0m\n",
      "\u001b[34mINFO:root:Determined delimiter of CSV input is ','\u001b[0m\n",
      "\u001b[34m[18:26:52] 12357x59 matrix with 729063 entries loaded from /opt/ml/input/data/validation?format=csv&label_column=0&delimiter=,\u001b[0m\n",
      "\u001b[34mINFO:root:Single node training.\u001b[0m\n",
      "\u001b[34mINFO:root:Train matrix has 28831 rows\u001b[0m\n",
      "\u001b[34mINFO:root:Validation matrix has 12357 rows\u001b[0m\n",
      "\u001b[34m[18:26:52] WARNING: /workspace/src/learner.cc:328: \u001b[0m\n",
      "\u001b[34mParameters: { num_round } might not be used.\n",
      "  This may not be accurate due to some parameters are only used in language bindings but\n",
      "  passed down to XGBoost core.  Or some parameters are not used but slip through this\n",
      "  verification. Please open an issue if you find above cases.\u001b[0m\n",
      "\u001b[34m[0]#011train-error:0.10138#011validation-error:0.10116\u001b[0m\n",
      "\u001b[34m[1]#011train-error:0.10083#011validation-error:0.10140\u001b[0m\n",
      "\u001b[34m[2]#011train-error:0.10100#011validation-error:0.10148\u001b[0m\n",
      "\u001b[34m[3]#011train-error:0.10086#011validation-error:0.10164\u001b[0m\n",
      "\u001b[34m[4]#011train-error:0.10159#011validation-error:0.10124\u001b[0m\n",
      "\u001b[34m[5]#011train-error:0.10159#011validation-error:0.10100\u001b[0m\n",
      "\u001b[34m[6]#011train-error:0.10152#011validation-error:0.10091\u001b[0m\n",
      "\u001b[34m[7]#011train-error:0.10121#011validation-error:0.10051\u001b[0m\n",
      "\u001b[34m[8]#011train-error:0.10097#011validation-error:0.10051\u001b[0m\n",
      "\u001b[34m[9]#011train-error:0.10125#011validation-error:0.10067\u001b[0m\n",
      "\u001b[34m[10]#011train-error:0.10093#011validation-error:0.10091\u001b[0m\n",
      "\u001b[34m[11]#011train-error:0.10072#011validation-error:0.10075\u001b[0m\n",
      "\u001b[34m[12]#011train-error:0.10062#011validation-error:0.10027\u001b[0m\n",
      "\u001b[34m[13]#011train-error:0.10107#011validation-error:0.10067\u001b[0m\n",
      "\u001b[34m[14]#011train-error:0.10069#011validation-error:0.10051\u001b[0m\n",
      "\u001b[34m[15]#011train-error:0.10083#011validation-error:0.10043\u001b[0m\n",
      "\u001b[34m[16]#011train-error:0.10083#011validation-error:0.10043\u001b[0m\n",
      "\u001b[34m[17]#011train-error:0.10097#011validation-error:0.10043\u001b[0m\n",
      "\u001b[34m[18]#011train-error:0.10090#011validation-error:0.10043\u001b[0m\n",
      "\u001b[34m[19]#011train-error:0.10034#011validation-error:0.10083\u001b[0m\n",
      "\u001b[34m[20]#011train-error:0.10014#011validation-error:0.10075\u001b[0m\n",
      "\u001b[34m[21]#011train-error:0.10010#011validation-error:0.10067\u001b[0m\n",
      "\u001b[34m[22]#011train-error:0.10021#011validation-error:0.10067\u001b[0m\n",
      "\u001b[34m[23]#011train-error:0.09982#011validation-error:0.10108\u001b[0m\n",
      "\u001b[34m[24]#011train-error:0.10000#011validation-error:0.10067\u001b[0m\n",
      "\u001b[34m[25]#011train-error:0.09975#011validation-error:0.10059\u001b[0m\n",
      "\u001b[34m[26]#011train-error:0.10000#011validation-error:0.10027\u001b[0m\n",
      "\u001b[34m[27]#011train-error:0.09989#011validation-error:0.10027\u001b[0m\n",
      "\u001b[34m[28]#011train-error:0.09986#011validation-error:0.09994\u001b[0m\n",
      "\u001b[34m[29]#011train-error:0.09965#011validation-error:0.10051\u001b[0m\n",
      "\u001b[34m[30]#011train-error:0.09968#011validation-error:0.10035\u001b[0m\n",
      "\u001b[34m[31]#011train-error:0.09937#011validation-error:0.10051\u001b[0m\n",
      "\u001b[34m[32]#011train-error:0.09937#011validation-error:0.10075\u001b[0m\n",
      "\u001b[34m[33]#011train-error:0.09955#011validation-error:0.10091\u001b[0m\n",
      "\u001b[34m[34]#011train-error:0.09955#011validation-error:0.10075\u001b[0m\n",
      "\u001b[34m[35]#011train-error:0.09930#011validation-error:0.10067\u001b[0m\n",
      "\u001b[34m[36]#011train-error:0.09916#011validation-error:0.10091\u001b[0m\n",
      "\u001b[34m[37]#011train-error:0.09916#011validation-error:0.10091\u001b[0m\n",
      "\u001b[34m[38]#011train-error:0.09937#011validation-error:0.10083\u001b[0m\n",
      "\u001b[34m[39]#011train-error:0.09923#011validation-error:0.10108\u001b[0m\n",
      "\u001b[34m[40]#011train-error:0.09903#011validation-error:0.10083\u001b[0m\n",
      "\u001b[34m[41]#011train-error:0.09899#011validation-error:0.10132\u001b[0m\n",
      "\u001b[34m[42]#011train-error:0.09899#011validation-error:0.10132\u001b[0m\n",
      "\u001b[34m[43]#011train-error:0.09889#011validation-error:0.10132\u001b[0m\n",
      "\u001b[34m[44]#011train-error:0.09871#011validation-error:0.10091\u001b[0m\n",
      "\u001b[34m[45]#011train-error:0.09871#011validation-error:0.10091\u001b[0m\n",
      "\u001b[34m[46]#011train-error:0.09868#011validation-error:0.10083\u001b[0m\n",
      "\u001b[34m[47]#011train-error:0.09882#011validation-error:0.10043\u001b[0m\n",
      "\u001b[34m[48]#011train-error:0.09871#011validation-error:0.10051\u001b[0m\n",
      "\u001b[34m[49]#011train-error:0.09871#011validation-error:0.10027\u001b[0m\n",
      "\n",
      "2021-11-29 18:27:10 Completed - Training job completed\n",
      "Training seconds: 40\n",
      "Billable seconds: 20\n",
      "Managed Spot Training savings: 50.0%\n"
     ]
    }
   ],
   "source": [
    "estimator.fit({'train':s3_input_train, 'validation':s3_input_test})"
   ]
  },
  {
   "cell_type": "markdown",
   "id": "ba2c5cbd",
   "metadata": {},
   "source": [
    "## Deploying the model"
   ]
  },
  {
   "cell_type": "code",
   "execution_count": 34,
   "id": "5160fb65",
   "metadata": {},
   "outputs": [
    {
     "name": "stdout",
     "output_type": "stream",
     "text": [
      "-------!"
     ]
    }
   ],
   "source": [
    "xgb_predictor = estimator.deploy(initial_instance_count=1, instance_type='ml.m4.xlarge')"
   ]
  },
  {
   "cell_type": "markdown",
   "id": "251e3a16",
   "metadata": {},
   "source": [
    "## predictions on the test data\n"
   ]
  },
  {
   "cell_type": "code",
   "execution_count": 39,
   "id": "d7619d29",
   "metadata": {},
   "outputs": [
    {
     "name": "stderr",
     "output_type": "stream",
     "text": [
      "The csv_serializer has been renamed in sagemaker>=2.\n",
      "See: https://sagemaker.readthedocs.io/en/stable/v2.html for details.\n"
     ]
    },
    {
     "name": "stdout",
     "output_type": "stream",
     "text": [
      "(12357,)\n"
     ]
    }
   ],
   "source": [
    "from sagemaker.predictor import csv_serializer\n",
    "test_data_array = test_data.drop(['y_no', 'y_yes'], axis=1).values #load the data into an array\n",
    "xgb_predictor.content_types = 'text/csv' # set the data type for an inference\n",
    "xgb_predictor.serializer = csv_serializer # set the serializer type\n",
    "predictions = xgb_predictor.predict(test_data_array).decode('utf-8') # predict!\n",
    "predictions_array = np.fromstring(predictions[1:], sep=',') # and turn the prediction into an array\n",
    "print(predictions_array.shape)"
   ]
  },
  {
   "cell_type": "code",
   "execution_count": 40,
   "id": "3b1fb61b",
   "metadata": {},
   "outputs": [
    {
     "name": "stdout",
     "output_type": "stream",
     "text": [
      "\n",
      "Overall Classification Rate: 90.0%\n",
      "\n",
      "Predicted      No Purchase    Purchase\n",
      "Observed\n",
      "No Purchase    91% (10820)    36% (169)\n",
      "Purchase        9% (1070)     64% (298) \n",
      "\n"
     ]
    }
   ],
   "source": [
    "cm = pd.crosstab(index=test_data['y_yes'], columns=np.round(predictions_array), rownames=['Observed'], colnames=['Predicted'])\n",
    "tn = cm.iloc[0,0]; fn = cm.iloc[1,0]; tp = cm.iloc[1,1]; fp = cm.iloc[0,1]; p = (tp+tn)/(tp+tn+fp+fn)*100\n",
    "print(\"\\n{0:<20}{1:<4.1f}%\\n\".format(\"Overall Classification Rate: \", p))\n",
    "print(\"{0:<15}{1:<15}{2:>8}\".format(\"Predicted\", \"No Purchase\", \"Purchase\"))\n",
    "print(\"Observed\")\n",
    "print(\"{0:<15}{1:<2.0f}% ({2:<}){3:>6.0f}% ({4:<})\".format(\"No Purchase\", tn/(tn+fn)*100,tn, fp/(tp+fp)*100, fp))\n",
    "print(\"{0:<16}{1:<1.0f}% ({2:<}){3:>7.0f}% ({4:<}) \\n\".format(\"Purchase\", fn/(tn+fn)*100,fn, tp/(tp+fp)*100, tp))"
   ]
  },
  {
   "cell_type": "code",
   "execution_count": 41,
   "id": "8802f6f5",
   "metadata": {},
   "outputs": [
    {
     "name": "stderr",
     "output_type": "stream",
     "text": [
      "The endpoint attribute has been renamed in sagemaker>=2.\n",
      "See: https://sagemaker.readthedocs.io/en/stable/v2.html for details.\n"
     ]
    },
    {
     "data": {
      "text/plain": [
       "[{'ResponseMetadata': {'RequestId': 'MWSES3B7K3QGG8NP',\n",
       "   'HostId': 'XHQ/lu6PVd14v8Hfv5bqB39Aua95P6x4ZeNzU/Qz/sAyLXXUkll/Hc6SehiV9bc5H6XEgYq5lTg=',\n",
       "   'HTTPStatusCode': 200,\n",
       "   'HTTPHeaders': {'x-amz-id-2': 'XHQ/lu6PVd14v8Hfv5bqB39Aua95P6x4ZeNzU/Qz/sAyLXXUkll/Hc6SehiV9bc5H6XEgYq5lTg=',\n",
       "    'x-amz-request-id': 'MWSES3B7K3QGG8NP',\n",
       "    'date': 'Mon, 29 Nov 2021 18:44:34 GMT',\n",
       "    'content-type': 'application/xml',\n",
       "    'transfer-encoding': 'chunked',\n",
       "    'server': 'AmazonS3',\n",
       "    'connection': 'close'},\n",
       "   'RetryAttempts': 0},\n",
       "  'Deleted': [{'Key': 'xgboost-as-a-built-in-algo/output/sagemaker-xgboost-2021-11-29-18-21-24-764/profiler-output/system/training_job_end.ts'},\n",
       "   {'Key': 'xgboost-as-a-built-in-algo/train/train.csv'},\n",
       "   {'Key': 'xgboost-as-a-built-in-algo/output/sagemaker-xgboost-2021-11-29-18-21-24-764/output/model.tar.gz'},\n",
       "   {'Key': 'xgboost-as-a-built-in-algo/output/sagemaker-xgboost-2021-11-29-18-21-24-764/profiler-output/framework/training_job_end.ts'},\n",
       "   {'Key': 'xgboost-as-a-built-in-algo/output/sagemaker-xgboost-2021-11-29-18-21-24-764/profiler-output/system/incremental/2021112918/1638210360.algo-1.json'},\n",
       "   {'Key': 'xgboost-as-a-built-in-algo/test/test.csv'}]}]"
      ]
     },
     "execution_count": 41,
     "metadata": {},
     "output_type": "execute_result"
    }
   ],
   "source": [
    "#deleting the endpoints\n",
    "sagemaker.Session().delete_endpoint(xgb_predictor.endpoint)\n",
    "bucket_to_delete = boto3.resource('s3').Bucket(bucket_name)\n",
    "bucket_to_delete.objects.all().delete()"
   ]
  },
  {
   "cell_type": "code",
   "execution_count": null,
   "id": "ccdbdb4e",
   "metadata": {},
   "outputs": [],
   "source": []
  }
 ],
 "metadata": {
  "kernelspec": {
   "display_name": "conda_python3",
   "language": "python",
   "name": "conda_python3"
  },
  "language_info": {
   "codemirror_mode": {
    "name": "ipython",
    "version": 3
   },
   "file_extension": ".py",
   "mimetype": "text/x-python",
   "name": "python",
   "nbconvert_exporter": "python",
   "pygments_lexer": "ipython3",
   "version": "3.6.13"
  }
 },
 "nbformat": 4,
 "nbformat_minor": 5
}
